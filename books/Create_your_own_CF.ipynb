{
 "cells": [
  {
   "cell_type": "markdown",
   "id": "b9919853",
   "metadata": {},
   "source": [
    "# Create your own CF-transformation\n",
    "\n",
    "One of the powerful feature of the **HOST** package, is the user-customization possibilities.\n",
    "\n",
    "As previously explained, one could use the CF-transformation functions (mainly non-parametric) to improve the picking detection and/or precision.\n",
    "\n",
    "The users may willing, though, to create their own transformation function to modify the HOST-CF in their pipelines.\n",
    "I tried to make this procedure as easy as possible... here are the steps:\n",
    "\n",
    "_NB: For this purposes, I recommend to do a _developer installation_ (check the `README.md` file)_\n",
    "\n",
    "1. open the `scaffold.py` module in your preferred text editor\n",
    "2. append at the end of the file your function. Name it as you prefer (e.g., `my_beautiful_funct`)\n",
    "3. the only mandatory input parameter is the so-called `inarr`. This is basically the CF function you used so far.\n",
    "4. the only output must be the so-called `outarr` that will be the modified array.\n",
    "\n",
    "To put it into pseudo-code:\n",
    "\n",
    "```python\n",
    "\n",
    "# ---- Inside SCAFFOLD module\n",
    "def my_beautiful_funct(inarr, mypar_1=\"foo\", mypar_2=42, mypar_3=[\"bar\",5.3550] ...):\n",
    "    \"\"\" Brief explanation for you and others in your group \"\"\"\n",
    "    # Add here the modification(s)\n",
    "    return outarr\n",
    "\n",
    "# ---- Whyle working / in your script pipelines ...\n",
    "HP.set_transform_cf(\n",
    "    {\n",
    "        'my_beautiful_funct': {\n",
    "            'mypar_1': \"foo\",\n",
    "            'mypar_2': 42,\n",
    "            'mypar_3': [\"bar\",5.3550]\n",
    "            ...\n",
    "        },\n",
    "        ...\n",
    "    }\n",
    ")\n",
    "\n",
    "```\n",
    "\n",
    "And be ready to go ...\n",
    "\n"
   ]
  }
 ],
 "metadata": {
  "kernelspec": {
   "display_name": "Python 3 (ipykernel)",
   "language": "python",
   "name": "python3"
  },
  "language_info": {
   "codemirror_mode": {
    "name": "ipython",
    "version": 3
   },
   "file_extension": ".py",
   "mimetype": "text/x-python",
   "name": "python",
   "nbconvert_exporter": "python",
   "pygments_lexer": "ipython3",
   "version": "3.9.7"
  }
 },
 "nbformat": 4,
 "nbformat_minor": 5
}
